{
 "cells": [
  {
   "cell_type": "code",
   "execution_count": null,
   "metadata": {},
   "outputs": [],
   "source": [
    "dpath = '/data/dynamic-brain-workshop/visual_coding_neuropixels'"
   ]
  },
  {
   "cell_type": "code",
   "execution_count": null,
   "metadata": {},
   "outputs": [],
   "source": [
    "import numpy as np\n",
    "import pandas as pd\n",
    "import os\n",
    "import matplotlib.pyplot as plt\n",
    "import seaborn as sns\n",
    "import itertools as itt\n",
    "import holoviews as hv\n",
    "import dask as da\n",
    "import dask\n",
    "import xarray as xr\n",
    "from IPython.core.debugger import set_trace\n",
    "from dask.diagnostics import ProgressBar\n",
    "from holoviews.operation.datashader import regrid, datashade\n",
    "from __future__ import print_function\n",
    "hv.extension('bokeh', width=100)"
   ]
  },
  {
   "cell_type": "code",
   "execution_count": null,
   "metadata": {},
   "outputs": [],
   "source": [
    "manifest_file = os.path.join(dpath,'ephys_manifest.csv')\n",
    "expt_info_df = pd.read_csv(manifest_file)\n",
    "expt_info_df.head()"
   ]
  },
  {
   "cell_type": "code",
   "execution_count": null,
   "metadata": {},
   "outputs": [],
   "source": [
    "from swdb_2018_neuropixels.ephys_nwb_adapter import NWB_adapter\n",
    "from allensdk.core.brain_observatory_cache import BrainObservatoryCache\n",
    "from allensdk.brain_observatory.stimulus_info import BrainObservatoryMonitor\n",
    "# ds = NWB_adapter(os.path.join(dpath, expt_info_df['nwb_filename'].iloc[6]))\n",
    "boc = BrainObservatoryCache(manifest_file='/data/allen-brain-observatory/visual-coding-2p/manifest.json')\n",
    "bom = BrainObservatoryMonitor()\n",
    "dim_mon = (1200, 1920)"
   ]
  },
  {
   "cell_type": "code",
   "execution_count": null,
   "metadata": {},
   "outputs": [],
   "source": [
    "def sub_spike(spk, ts, te):\n",
    "    return spk[(spk > ts) & (spk < te)]\n",
    "\n",
    "def fr(spk, ts, te, bins):\n",
    "    spk_sub = sub_spike(spk, ts, te)\n",
    "    if bins is None:\n",
    "        return len(spk_sub) / (te - ts)\n",
    "    elif isinstance(bins, float):\n",
    "        bins = np.ceil((te - ts) / bins)\n",
    "    return np.histogram(spk, bins, range=(ts, te))\n",
    "\n",
    "def tuning_per_stim(spk, stim):\n",
    "    return np.mean(stim.apply(\n",
    "        lambda r: fr(spk, r['start'], r['end'], None), axis=1))\n",
    "\n",
    "def tuning_per_unit(spk, stim):\n",
    "    grp_dim = list(set(stim.columns) - set(['start', 'end']))\n",
    "    return stim.groupby(grp_dim).apply(\n",
    "        lambda df: tuning_per_stim(spk, df)).rename('tuning').reset_index()"
   ]
  },
  {
   "cell_type": "code",
   "execution_count": null,
   "metadata": {},
   "outputs": [],
   "source": [
    "%%time\n",
    "tuning_list = []\n",
    "for unit, stim_type in itt.product(\n",
    "    [r for _, r in ds.unit_df.iterrows()], set(ds.stim_list) - set(['spontaneous'])):\n",
    "    prob, uid = unit['probe'], unit['unit_id']\n",
    "    tu = tuning_per_unit(ds.spike_times[prob][uid], ds.stim_tables[stim_type])\n",
    "    tu['probe'] = prob\n",
    "    tu['unit_id'] = uid\n",
    "    tu['stim_type'] = stim_type\n",
    "    tuning_list.append(tu)\n",
    "tuning_df = pd.concat(tuning_list, axis=0, ignore_index=True)"
   ]
  },
  {
   "cell_type": "code",
   "execution_count": null,
   "metadata": {
    "scrolled": true
   },
   "outputs": [],
   "source": [
    "tuning_df = pd.read_csv(\n",
    "    '/home/ec2-user/SageMaker/phildong/swdb_2018_tools/swdb_2018_tools/deencoder/ephys_multi_58_tuning.csv').drop('Unnamed: 0', axis=1)"
   ]
  },
  {
   "cell_type": "markdown",
   "metadata": {},
   "source": [
    "# get stimulus templates\n",
    "## get mask"
   ]
  },
  {
   "cell_type": "code",
   "execution_count": null,
   "metadata": {},
   "outputs": [],
   "source": [
    "mask = bom.get_mask()\n",
    "mask = xr.DataArray(mask,\n",
    "                    dims=['height', 'width'],\n",
    "                    coords=dict(height=np.arange(mask.shape[0]), width=np.arange(mask.shape[1])))"
   ]
  },
  {
   "cell_type": "markdown",
   "metadata": {},
   "source": [
    "## get locally sparse noise templates"
   ]
  },
  {
   "cell_type": "code",
   "execution_count": null,
   "metadata": {},
   "outputs": [],
   "source": [
    "cont_df = pd.DataFrame(boc.get_experiment_containers())\n",
    "exps_df = pd.DataFrame(boc.get_ophys_experiments(str(cont_df['id'].iloc[0])))\n",
    "oexp = boc.get_ophys_experiment_data(exps_df[exps_df['session_type'] == 'three_session_C']['id'].iloc[0])"
   ]
  },
  {
   "cell_type": "code",
   "execution_count": null,
   "metadata": {},
   "outputs": [],
   "source": [
    "oexp.get_stimulus_epoch_table()"
   ]
  },
  {
   "cell_type": "code",
   "execution_count": null,
   "metadata": {},
   "outputs": [],
   "source": [
    "temps_lsn = oexp.get_stimulus_template('locally_sparse_noise')\n",
    "temps_lsn = xr.DataArray(\n",
    "    temps_lsn, dims=['frame', 'height', 'width'],\n",
    "    coords=dict(\n",
    "        frame=np.arange(temps_lsn.shape[0]),\n",
    "        height=np.arange(temps_lsn.shape[1]),\n",
    "        width=np.arange(temps_lsn.shape[2])))\n",
    "temps_lsn = xr.apply_ufunc(\n",
    "    bom.lsn_image_to_screen,\n",
    "    temps_lsn.chunk(dict(frame=500)),\n",
    "    input_core_dims=[['height', 'width']],\n",
    "    output_core_dims=[['height_new', 'width_new']],\n",
    "    vectorize=True,\n",
    "    output_dtypes=[temps_lsn.dtype],\n",
    "    dask = 'parallelized',\n",
    "    output_sizes=dict(height_new = dim_mon[0], width_new = dim_mon[1])\n",
    ")\n",
    "temps_lsn = temps_lsn.where(mask, drop=True)\n",
    "temps_lsn = temps_lsn.rename(dict(height_new='height', width_new='width'))\n",
    "temps_lsn = temps_lsn.assign_coords(height=np.arange(temps_lsn.sizes['height']), width=np.arange(temps_lsn.sizes['width']))\n",
    "temps_lsn = temps_lsn.rename('locally_sparse_noise').to_dataset()"
   ]
  },
  {
   "cell_type": "code",
   "execution_count": null,
   "metadata": {},
   "outputs": [],
   "source": [
    "with ProgressBar():\n",
    "    temps_lsn.to_netcdf('/home/ec2-user/SageMaker/phildong/swdb_2018_tools/swdb_2018_tools/deencoder/temps_lsn.nc', engine='netcdf4')"
   ]
  },
  {
   "cell_type": "markdown",
   "metadata": {},
   "source": [
    "## get static gratings"
   ]
  },
  {
   "cell_type": "code",
   "execution_count": null,
   "metadata": {},
   "outputs": [],
   "source": [
    "tuning_df_grat = tuning_df[tuning_df['stim_type'] == 'static_gratings'].dropna(axis='columns')\n",
    "grat_list = []\n",
    "for ph, sfreq, ori in itt.product(tuning_df_grat['phase'].unique(),\n",
    "                                  tuning_df_grat['spatial_frequency'].unique(),\n",
    "                                  tuning_df_grat['orientation'].unique()):\n",
    "    cur_grat = da.delayed(bom.grating_to_screen)(ph, sfreq, ori)\n",
    "    cur_grat = da.delayed(xr.DataArray)(cur_grat,\n",
    "                            dims=['height', 'width'],\n",
    "                            coords=dict(height=np.arange(mask.sizes['height']),\n",
    "                                        width=np.arange(mask.sizes['width'])))\n",
    "    cur_grat = cur_grat.assign_coords(phase=ph, spatial_frequency=sfreq, orientation=ori)\n",
    "    grat_list.append(cur_grat)"
   ]
  },
  {
   "cell_type": "code",
   "execution_count": null,
   "metadata": {},
   "outputs": [],
   "source": [
    "with ProgressBar():\n",
    "    grats, = da.compute(grat_list)"
   ]
  },
  {
   "cell_type": "code",
   "execution_count": null,
   "metadata": {},
   "outputs": [],
   "source": [
    "gratings = xr.concat(grats, dim='gratings').rename('gratings')\n",
    "gratings.to_netcdf('/home/ec2-user/SageMaker/phildong/swdb_2018_tools/swdb_2018_tools/deencoder/temps_sgrat.nc', engine='netcdf4')"
   ]
  },
  {
   "cell_type": "code",
   "execution_count": null,
   "metadata": {},
   "outputs": [],
   "source": [
    "hv_gratings = hv.Dataset(gratings.rename('grat').reset_index('gratings').assign_coords(gratings=np.arange(gratings.sizes['gratings'])))"
   ]
  },
  {
   "cell_type": "code",
   "execution_count": null,
   "metadata": {},
   "outputs": [],
   "source": [
    "%%output size=30\n",
    "regrid(hv_gratings.to(hv.Image, kdims=['width', 'height'])).opts(plot=dict(height=gratings.sizes['height'], width=gratings.sizes['width']))"
   ]
  },
  {
   "cell_type": "markdown",
   "metadata": {},
   "source": [
    "# compute preferred stimulus\n",
    "## compute static gratings"
   ]
  },
  {
   "cell_type": "code",
   "execution_count": null,
   "metadata": {},
   "outputs": [],
   "source": [
    "gratings = xr.open_dataarray('/home/ec2-user/SageMaker/phildong/swdb_2018_tools/swdb_2018_tools/deencoder/temps_sgrat.nc', autoclose=True)\n",
    "tuning_df_grat = tuning_df[tuning_df['stim_type'] == 'static_gratings'].dropna(axis='columns')\n",
    "gratings = gratings.set_index(gratings=['phase', 'spatial_frequency', 'orientation'])"
   ]
  },
  {
   "cell_type": "code",
   "execution_count": null,
   "metadata": {},
   "outputs": [],
   "source": [
    "def compute_preferred_stimulus(stim, tuning):\n",
    "    stim_sum = stim.dot(tuning)\n",
    "    return (stim_sum - stim_sum.min()) / (stim_sum.max() - stim_sum.min())"
   ]
  },
  {
   "cell_type": "code",
   "execution_count": null,
   "metadata": {
    "scrolled": false
   },
   "outputs": [],
   "source": [
    "pstim_list = []\n",
    "gratings = gratings.stack(spatial=['height', 'width']).astype(np.float32)\n",
    "tuning_df_grat = tuning_df_grat.sort_values(['phase', 'spatial_frequency', 'orientation'])\n",
    "tuning_df_grat['tuning'] = tuning_df_grat['tuning'].astype(np.float32)\n",
    "for uid, unit_df in tuning_df_grat.groupby(['probe', 'unit_id']):\n",
    "    tuning = unit_df['tuning'].values\n",
    "    tuning = xr.DataArray(tuning, dims=['g'])\n",
    "    pstim = da.delayed(xr.apply_ufunc)(\n",
    "        compute_preferred_stimulus,\n",
    "        gratings,\n",
    "        tuning,\n",
    "        input_core_dims=[['spatial', 'gratings'], ['g']],\n",
    "        output_core_dims=[['spatial']]\n",
    "    )\n",
    "    pstim = pstim.assign_coords(probe=uid[0], unit_id=uid[1])\n",
    "    pstim_list.append(pstim)\n",
    "pstims = da.delayed(xr.concat)(pstim_list, dim='unit')\n",
    "pstims = pstims.unstack('spatial')"
   ]
  },
  {
   "cell_type": "code",
   "execution_count": null,
   "metadata": {
    "scrolled": false
   },
   "outputs": [],
   "source": [
    "%%time\n",
    "with ProgressBar():\n",
    "    pstims = pstims.compute()"
   ]
  },
  {
   "cell_type": "code",
   "execution_count": null,
   "metadata": {},
   "outputs": [],
   "source": [
    "%%time\n",
    "pstims.to_netcdf('/home/ec2-user/SageMaker/phildong/swdb_2018_tools/swdb_2018_tools/deencoder/tuning_sgrat.nc')"
   ]
  }
 ],
 "metadata": {
  "kernelspec": {
   "display_name": "conda_python2",
   "language": "python",
   "name": "conda_python2"
  },
  "language_info": {
   "codemirror_mode": {
    "name": "ipython",
    "version": 2
   },
   "file_extension": ".py",
   "mimetype": "text/x-python",
   "name": "python",
   "nbconvert_exporter": "python",
   "pygments_lexer": "ipython2",
   "version": "2.7.15"
  }
 },
 "nbformat": 4,
 "nbformat_minor": 2
}
